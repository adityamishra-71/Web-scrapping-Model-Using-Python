{
 "cells": [
  {
   "cell_type": "code",
   "execution_count": 68,
   "metadata": {},
   "outputs": [],
   "source": [
    "#Requirements\n",
    "#pip3 install requests\n",
    "#pip3 install bs4"
   ]
  },
  {
   "cell_type": "markdown",
   "metadata": {},
   "source": [
    "## Basic fundamentals of web scraping"
   ]
  },
  {
   "cell_type": "code",
   "execution_count": 69,
   "metadata": {},
   "outputs": [
    {
     "name": "stdout",
     "output_type": "stream",
     "text": [
      "this is with html tags : <title>Fun with python programming – A programming language for revolution</title>\n",
      "this is without html tags: Fun with python programming\n",
      "<a class=\"screen-reader-text skip-link\" href=\"#content\">Skip to content</a>\n"
     ]
    }
   ],
   "source": [
    "# import these two modules bs4 for selecting HTML tags easily\n",
    "from bs4 import BeautifulSoup\n",
    "# requests module is easy to operate some people use urllib but I prefer this one because it is easy to use.\n",
    "import requests\n",
    "\n",
    "# I put here my own blog url ,you can change it.\n",
    "url=\"https://getpython.wordpress.com/\"\n",
    "\n",
    "#Requests module use to data from given url\n",
    "source=requests.get(url)\n",
    "\n",
    "# BeautifulSoup is used for getting HTML structure from requests response.(craete your soup)\n",
    "soup=BeautifulSoup(source.text,'html')\n",
    "\n",
    "# Find function is used to find a single element if there are more than once it always returns the first element.\n",
    "title=soup.find('title') # place your html tagg in parentheses that you want to find from html.\n",
    "print(\"this is with html tags :\",title)\n",
    "\n",
    "qwery=soup.find('h1') # here i find first h1 tagg in my website using find operation.\n",
    "\n",
    "#use .text for extract only text without any html tags\n",
    "print(\"this is without html tags:\",qwery.text) \n",
    "\n",
    "\n",
    "links=soup.find('a') #i extarcted link using \"a\" tag\n",
    "print(links)"
   ]
  },
  {
   "cell_type": "markdown",
   "metadata": {},
   "source": [
    "## extarct data from innerhtml "
   ]
  },
  {
   "cell_type": "code",
   "execution_count": 70,
   "metadata": {},
   "outputs": [
    {
     "name": "stdout",
     "output_type": "stream",
     "text": [
      "#content\n"
     ]
    }
   ],
   "source": [
    "# here i extarcted href data from anchor tag.\n",
    "print(links['href']) "
   ]
  },
  {
   "cell_type": "code",
   "execution_count": 71,
   "metadata": {},
   "outputs": [
    {
     "name": "stdout",
     "output_type": "stream",
     "text": [
      "['screen-reader-text', 'skip-link']\n"
     ]
    }
   ],
   "source": [
    "# similarly i got class details from a anchor tag\n",
    "print(links['class'])"
   ]
  },
  {
   "cell_type": "markdown",
   "metadata": {},
   "source": [
    "## findall operation in Bs4"
   ]
  },
  {
   "cell_type": "code",
   "execution_count": 72,
   "metadata": {},
   "outputs": [
    {
     "name": "stdout",
     "output_type": "stream",
     "text": [
      "total links in my website : 100\n",
      "\n",
      "<a class=\"screen-reader-text skip-link\" href=\"#content\">Skip to content</a>\n",
      "<a href=\"https://getpython.wordpress.com/\" rel=\"home\">\n",
      "<div class=\"cover\"></div>\n",
      "</a>\n",
      "<a class=\"screen-reader-text search-toggle\" href=\"#search-container\">Search</a>\n",
      "<a href=\"https://getpython.wordpress.com/\" rel=\"home\">Fun with python programming</a>\n",
      "<a aria-current=\"page\" href=\"/\">Home</a>\n",
      "<a href=\"https://getpython.wordpress.com/contact/\">Contact</a>\n"
     ]
    }
   ],
   "source": [
    "# findall function is used to fetch all tags at a single time.\n",
    "many_link=soup.find_all('a') # here i extracted all the anchor tags of my website\n",
    "total_links=len(many_link) # len function is use to calculate length of your array\n",
    "print(\"total links in my website :\",total_links)\n",
    "print()\n",
    "for i in many_link[:6]: # here i use slicing to fetch only first 6 links from rest of them.\n",
    "    print(i)"
   ]
  },
  {
   "cell_type": "code",
   "execution_count": 73,
   "metadata": {},
   "outputs": [
    {
     "name": "stdout",
     "output_type": "stream",
     "text": [
      "<a href=\"https://getpython.wordpress.com/\" rel=\"home\">\n",
      "<div class=\"cover\"></div>\n",
      "</a>\n",
      "\n",
      "href is : https://getpython.wordpress.com/\n"
     ]
    }
   ],
   "source": [
    "second_link=many_link[1] #here i fetch second link which place on 1 index number in many_links.\n",
    "print(second_link)\n",
    "print()\n",
    "print(\"href is :\",second_link['href']) #only href link is extracted from ancor tag\n",
    "\n"
   ]
  },
  {
   "cell_type": "code",
   "execution_count": 74,
   "metadata": {},
   "outputs": [
    {
     "name": "stdout",
     "output_type": "stream",
     "text": [
      "<div class=\"cover\"></div>\n",
      "\n",
      "['cover']\n",
      "<class 'list'>\n",
      "\n",
      "class name of div is : cover\n"
     ]
    }
   ],
   "source": [
    "# select div tag from second link\n",
    "nested_div=second_link.find('div')\n",
    "# As you can see div element extarcted , it also have inner elements\n",
    "print(nested_div)\n",
    "print()\n",
    "#here i extracted class element from div but it give us in the form of list\n",
    "z=(nested_div['class'])\n",
    "print(z)\n",
    "print(type(z))\n",
    "print()\n",
    "#  \" \" .join () method use to convert list type  into string type\n",
    "print(\"class name of div is :\",\" \".join(nested_div['class'])) "
   ]
  },
  {
   "cell_type": "markdown",
   "metadata": {},
   "source": [
    "## scrap data from wikipedia"
   ]
  },
  {
   "cell_type": "code",
   "execution_count": 75,
   "metadata": {},
   "outputs": [
    {
     "name": "stdout",
     "output_type": "stream",
     "text": [
      "<title>World War II - Wikipedia</title>\n"
     ]
    }
   ],
   "source": [
    "wiki=requests.get(\"https://en.wikipedia.org/wiki/World_War_II\")\n",
    "soup=BeautifulSoup(wiki.text,'html')\n",
    "print(soup.find('title'))\n"
   ]
  },
  {
   "cell_type": "markdown",
   "metadata": {},
   "source": [
    "### find html tags with classes"
   ]
  },
  {
   "cell_type": "code",
   "execution_count": 76,
   "metadata": {},
   "outputs": [],
   "source": [
    "ww2_contents=soup.find_all(\"div\",class_='toc')\n",
    "for i in ww2_contents:\n",
    "    print(i.text)"
   ]
  },
  {
   "cell_type": "code",
   "execution_count": 77,
   "metadata": {},
   "outputs": [
    {
     "name": "stdout",
     "output_type": "stream",
     "text": [
      "World War IIFrom top to bottom, left to right: \n",
      "German Stuka dive bombers on the Eastern Front, 1943\n",
      "British Matilda II tanks during the North African campaign, 1941\n",
      "U.S. atomic bombing of Nagasaki in Japan, 1945\n",
      "Soviet troops at the Battle of Stalingrad, 1943\n",
      "Soviet soldier raising a flag over the Reichstag after the Battle of Berlin, 1945\n",
      "U.S. warships in Lingayen Gulf in the Philippines, 1945\n",
      "Date1 September 1939 – 2 September 1945[a]  (6 years, 1 day)LocationMajor theatres: \n",
      "Europe\n",
      "Pacific\n",
      "Atlantic\n",
      "Indian Ocean\n",
      "South-East Asia\n",
      "China\n",
      "Japan\n",
      "Middle East\n",
      "Mediterranean\n",
      "North Africa\n",
      "Horn of Africa\n",
      "Central Africa\n",
      "Australia\n",
      "Caribbean\n",
      "North and South America\n",
      "Result\n",
      "Allied victory (see also aftermath of World War II)Participants\n",
      "Allies\n",
      "AxisCommanders and leaders\n",
      "Main Allied leaders:\n",
      " Joseph Stalin\n",
      " Franklin D. Roosevelt\n",
      " Winston Churchill\n",
      " Chiang Kai-shek\n",
      "\n",
      "Main Axis leaders:\n",
      " Adolf Hitler\n",
      " Hirohito\n",
      " Benito Mussolini\n",
      "Casualties and losses\n",
      "\n",
      "Military dead:\n",
      "Over 16,000,000\n",
      "Civilian dead:\n",
      "Over 45,000,000\n",
      "Total dead:\n",
      "Over 61,000,000\n",
      "(1937–1945)\n",
      "...further details\n",
      "\n",
      "\n",
      "Military dead:\n",
      "Over 8,000,000\n",
      "Civilian dead:\n",
      "Over 4,000,000\n",
      "Total dead:\n",
      "Over 12,000,000\n",
      "(1937–1945)\n",
      "...further details\n",
      "\n"
     ]
    }
   ],
   "source": [
    "overview=soup.find_all('table',class_='infobox vevent')\n",
    "for z in overview:\n",
    "    print(z.text)\n",
    "    "
   ]
  },
  {
   "cell_type": "code",
   "execution_count": 78,
   "metadata": {},
   "outputs": [
    {
     "name": "stdout",
     "output_type": "stream",
     "text": [
      "<title>Indo-Pakistani war of 1971 - Wikipedia</title>\n"
     ]
    }
   ],
   "source": [
    "wiki=requests.get(\"https://en.wikipedia.org/wiki/Indo-Pakistani_war_of_1971\")\n",
    "soup=BeautifulSoup(wiki.text,'html')\n",
    "print(soup.find('title'))\n"
   ]
  },
  {
   "cell_type": "code",
   "execution_count": 79,
   "metadata": {},
   "outputs": [],
   "source": [
    "Indo_pak_war_contents=soup.find_all(\"div\",class_='toc')\n",
    "for i in Indo_pak_war_contents:\n",
    "    print(i.text)"
   ]
  },
  {
   "cell_type": "code",
   "execution_count": 80,
   "metadata": {},
   "outputs": [
    {
     "name": "stdout",
     "output_type": "stream",
     "text": [
      "Indo-Pakistani war of 1971Part of the Indo-Pakistani wars and conflicts, Cold War, and Bangladesh Liberation WarFirst row: Lt-Gen. A.A.K. Niazi, the Cdr. of Pakistani Eastern Comnd., signing the documented Instrument of Surrender in Dacca in the presence of Lt. Gen. Jagjit Singh Aurora (GOC-in-C of Indian Eastern Comnd.). Surojit Sen of All India Radio is seen holding a microphone on the right.Second row (left to right): Vice Adm. N. Krishnan (FOC-in-C Eastern Naval Comnd.), Air Mshl. H.C. Dewan, (AOC-in-C Eastern Air Comnd.), Lt Gen. Sagat Singh (Cdr. IV Corps), Maj Gen. JFR Jacob (COS Eastern Comnd.) and Flt Lt Krishnamurthy (peering over Jacob‘s shoulder).Date3–16 December 1971(1 week and 6 days)Location\n",
      "India–East Pakistan border\n",
      "India–West Pakistan border\n",
      "Line of Control\n",
      "Indian Ocean\n",
      "Arabian Sea\n",
      "Bay of BengalResult\n",
      "Indian victory[1][2][3]Eastern front: Surrender of East Pakistan military commandWestern front:Unilateral ceasefire[4][5][6]Territorialchanges\n",
      "Eastern Front:\n",
      "\n",
      "East Pakistan secedes from Pakistan as Bangladesh\n",
      "Western Front:\n",
      "\n",
      "Indian forces captured around 15,010 km2 (5,795 sq mi) of land in the West but returned it in the 1972 Simla Agreement as a gesture of goodwill.[7][8][9]\n",
      "India retained 883 km2 (341.1 sq mi) of the gained territory in Jammu and Kashmir while Pakistan retained 53 km2 (20.4 sq mi)  territory [10]Belligerents\n",
      "\n",
      " India\n",
      " Provisional Government of Bangladesh\n",
      "\n",
      "\n",
      " Pakistan\n",
      "Commanders and leaders\n",
      " Indira Gandhi\n",
      " Swaran Singh\n",
      " Sam Manekshaw\n",
      " J.S. Arora\n",
      " G.G. Bewoor\n",
      " Sagat Singh\n",
      " J. F. R. Jacob\n",
      " S. M. Nanda\n",
      " S. N. Kohli\n",
      " Nilakanta Krishnan\n",
      " Pratap C. Lal\n",
      " H. C. Dewan\n",
      "\n",
      "\n",
      " Sheikh Mujibur Rahman\n",
      " M. A. G. Osmani\n",
      "\n",
      "\n",
      " Yahya Khan\n",
      " A.A.K. Niazi \n",
      " Rao Farman\n",
      " Tikka Khan\n",
      " Iftikhar Janjua  †\n",
      " Muzaffar Hassan\n",
      " Rashid Ahmed\n",
      " Md Shariff  \n",
      " M.A.K. Lodhi\n",
      " Leslie Norman\n",
      " Abdul Rahim Khan\n",
      " Inamul Haq \n",
      " Z.A. Khan \n",
      "\n",
      " Abdul Motaleb Malik  Strength\n",
      "Indian Armed Forces: 825,000[11] – 860,000[12]\n",
      "\n",
      "Mukti Bahini: 180,000[13]\n",
      "Pakistan Armed Forces: 350,000[14] – 365,000[12]\n",
      "\n",
      "Razakars: 35,000[15]Casualties and losses\n",
      " India2,500[15]–3,843 killed[16][17]9,851[16]–12,000[18] injured\n",
      "\n",
      "1 naval aircraft[19][20]\n",
      "1 frigate\n",
      "Okha harbour damaged/fuel tanks destroyed[21]\n",
      "Neutral claims[15]\n",
      "\n",
      "45 IAF aircraft\n",
      "80 tanks\n",
      "Indian claims\n",
      "\n",
      "45 IAF aircraft[22]\n",
      "Pakistani claims\n",
      "\n",
      "130 IAF aircraft[23]\n",
      " Pakistan9,000 killed[15] 25,000 wounded[18]\n",
      " 93,000 captured 2 destroyers[citation needed] 1 Minesweeper[citation needed]} 1 Submarine[24] 3 Patrol vessels 7 gunboats\n",
      "\n",
      "Pakistani main port Karachi facilities damaged/fuel tanks destroyed[25]\n",
      "Pakistani airfields damaged and cratered[26]\n",
      "Neutral claims[15]\n",
      "\n",
      "75 PAF aircraft\n",
      "200 tanks\n",
      "Indian claims\n",
      "\n",
      "94 PAF aircraft[22]\n",
      "Pakistani claims\n",
      "\n",
      "42 PAF aircraft[27]\n"
     ]
    }
   ],
   "source": [
    "overview=soup.find_all('table',class_='infobox vevent')\n",
    "for z in overview:\n",
    "    print(z.text)\n",
    "    "
   ]
  },
  {
   "cell_type": "code",
   "execution_count": 81,
   "metadata": {},
   "outputs": [
    {
     "name": "stdout",
     "output_type": "stream",
     "text": [
      "<title>Russo-Ukrainian War - Wikipedia</title>\n"
     ]
    }
   ],
   "source": [
    "wiki=requests.get(\"https://en.wikipedia.org/wiki/Russo-Ukrainian_War\")\n",
    "soup=BeautifulSoup(wiki.text,'html')\n",
    "print(soup.find('title'))\n"
   ]
  },
  {
   "cell_type": "code",
   "execution_count": 82,
   "metadata": {},
   "outputs": [],
   "source": [
    "Russia_Ukranian_war_contents=soup.find_all(\"div\",class_='toc')\n",
    "for i in Russia_Ukranian_war_contents:\n",
    "    print(i.text)"
   ]
  },
  {
   "cell_type": "code",
   "execution_count": 83,
   "metadata": {},
   "outputs": [
    {
     "name": "stdout",
     "output_type": "stream",
     "text": [
      "Russo-Ukrainian WarPart of the conflicts in territory of the former Soviet UnionClockwise from top left: \n",
      "Ukrainian troops during the war in Donbas, 2015\n",
      "Russian T-64 tank with Z markings, 2022\n",
      "Russian-backed Donetsk People's Republic forces, 2015\n",
      "Residential building damaged by a Russian missile in Avdiivka, 2023\n",
      "Destroyed vehicles after the battle of Bucha, 2022\n",
      "Civilian killed after Russian missile strikes on Kyiv, 2022\n",
      "Date27 February 2014[b] – present(10 years, 7 months, 3 weeks and 2 days)LocationUkraine, Russia, and Black Sea (spillover into Romania,[1] Poland, Moldova, and Belarus)Status\n",
      "OngoingTerritorialchanges\n",
      "Russian annexation of Crimea and parts of four southeast Ukrainian oblasts in 2014 and 2022, respectivelyRussian occupation of more than 18% of Ukrainian territory as of March 2024[2]Ukrainian occupation of parts of Russia's Kursk Oblast since 2024Belligerents\n",
      " Russia\n",
      "\n",
      " Donetsk PR[a] (2014–2022)\n",
      " Luhansk PR[a] (2014–2022)\n",
      "Supplied by: For details, see Russian military suppliers\n",
      " Ukraine\n",
      "\n",
      "Supplied by:For countries providing aid to Ukraine since 2022, see military aid to UkraineCommanders and leaders\n",
      " Russia\n",
      "\n",
      "\n",
      "Vladimir Putin\n",
      "Sergei Shoigu\n",
      "Valery Gerasimov\n",
      "Yevgeny Prigozhin(2014–2023)\n",
      "Alexander Zakharchenko(2014–2018)\n",
      "Denis Pushilin(2018–present)\n",
      "Pavel Gubarev(2014)\n",
      "Igor Girkin(2014)\n",
      "Leonid Pasechnik(2017–present)\n",
      "Igor Plotnitsky(2014–2017)\n",
      "Valery Bolotov(2014)\n",
      "\n",
      " Ukraine\n",
      "\n",
      "\n",
      "Volodymyr Zelenskyy(2019–present)\n",
      "Petro Poroshenko(2014–2019)\n",
      "Oleksandr Turchynov(acting; 2014)\n",
      "Andrii Zahorodniuk(2019–2020)\n",
      "Stepan Poltorak(2014–2019)\n",
      "Valeriy Heletey(2014)\n",
      "Ihor Tenyukh(2014)\n",
      "Oleksandr Syrskyi(2024–present)\n",
      "Valerii Zaluzhnyi(2021–2024)\n",
      "Ruslan Khomchak(2019–2021)\n",
      "Strength\n",
      "For details of strengths and units involved at key points in the conflict, see:Combatants of the war in Donbas (2014–2022)Order of battle for the Russian invasion of UkraineCasualties and losses\n",
      "Hundreds of thousands, reports vary widely. See Casualties of the Russo-Ukrainian War for details.\n"
     ]
    }
   ],
   "source": [
    "overview=soup.find_all('table',class_='infobox vevent')\n",
    "for z in overview:\n",
    "    print(z.text)\n",
    "    "
   ]
  }
 ],
 "metadata": {
  "kernelspec": {
   "display_name": "Python 3",
   "language": "python",
   "name": "python3"
  },
  "language_info": {
   "codemirror_mode": {
    "name": "ipython",
    "version": 3
   },
   "file_extension": ".py",
   "mimetype": "text/x-python",
   "name": "python",
   "nbconvert_exporter": "python",
   "pygments_lexer": "ipython3",
   "version": "3.12.0"
  }
 },
 "nbformat": 4,
 "nbformat_minor": 2
}
